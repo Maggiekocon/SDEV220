{
 "cells": [
  {
   "cell_type": "code",
   "execution_count": 14,
   "id": "284721cb-7c42-478f-add9-7799352d3016",
   "metadata": {},
   "outputs": [
    {
     "name": "stdout",
     "output_type": "stream",
     "text": [
      "Seconds in an hour: 3600\n"
     ]
    }
   ],
   "source": [
    "## 3.1 - 3.6 \n",
    "hours = 1\n",
    "seconds_per_hour = 60*60*hours\n",
    "print('Seconds in an hour:',seconds_per_hour)"
   ]
  },
  {
   "cell_type": "code",
   "execution_count": 13,
   "id": "5f596164-a180-4dcd-b9b1-186d4cf00cdf",
   "metadata": {},
   "outputs": [
    {
     "name": "stdout",
     "output_type": "stream",
     "text": [
      "Seconds in a day: 86400\n"
     ]
    }
   ],
   "source": [
    "hours = 24\n",
    "seconds_per_day = 60*60*hours\n",
    "print('Seconds in a day:',seconds_per_day)"
   ]
  },
  {
   "cell_type": "code",
   "execution_count": 16,
   "id": "e1d38d01-a2ed-45ef-8535-8c3627610a25",
   "metadata": {},
   "outputs": [
    {
     "name": "stdout",
     "output_type": "stream",
     "text": [
      "24.0\n"
     ]
    }
   ],
   "source": [
    "answer= seconds_per_day/seconds_per_hour\n",
    "print(answer)"
   ]
  },
  {
   "cell_type": "code",
   "execution_count": 17,
   "id": "a6bfdeaa-b984-4155-8a25-bad346972487",
   "metadata": {},
   "outputs": [
    {
     "name": "stdout",
     "output_type": "stream",
     "text": [
      "24\n"
     ]
    }
   ],
   "source": [
    "answer= seconds_per_day//seconds_per_hour\n",
    "print(answer)"
   ]
  },
  {
   "cell_type": "code",
   "execution_count": null,
   "id": "b1eeb9ae-a029-4a6a-a7b1-3b7e310ab2d9",
   "metadata": {},
   "outputs": [],
   "source": []
  }
 ],
 "metadata": {
  "kernelspec": {
   "display_name": "Python [conda env:base] *",
   "language": "python",
   "name": "conda-base-py"
  },
  "language_info": {
   "codemirror_mode": {
    "name": "ipython",
    "version": 3
   },
   "file_extension": ".py",
   "mimetype": "text/x-python",
   "name": "python",
   "nbconvert_exporter": "python",
   "pygments_lexer": "ipython3",
   "version": "3.13.5"
  }
 },
 "nbformat": 4,
 "nbformat_minor": 5
}
